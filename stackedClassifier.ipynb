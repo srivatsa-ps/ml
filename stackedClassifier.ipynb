{
  "cells": [
    {
      "cell_type": "code",
      "execution_count": 2,
      "metadata": {
        "id": "-l-iz34BMYiw"
      },
      "outputs": [],
      "source": [
        "from sklearn import datasets\n",
        "from sklearn.tree import DecisionTreeClassifier\n",
        "from sklearn.ensemble import RandomForestClassifier\n",
        "from sklearn.neighbors import KNeighborsClassifier\n",
        "from sklearn.linear_model import LogisticRegression\n",
        "from sklearn.ensemble import StackingClassifier\n",
        "import xgboost\n",
        "import pandas as pd\n",
        "from sklearn.model_selection import KFold\n",
        "from sklearn.model_selection import cross_val_score"
      ]
    },
    {
      "cell_type": "code",
      "execution_count": 3,
      "metadata": {
        "colab": {
          "base_uri": "https://localhost:8080/"
        },
        "id": "Ut3-R8vjMSrZ",
        "outputId": "467ab76b-a8e2-4f9e-b061-cfaab7557a92"
      },
      "outputs": [
        {
          "output_type": "stream",
          "name": "stdout",
          "text": [
            "   age  sex  cp  trestbps  chol  fbs  restecg  thalach  exang  oldpeak  slope  \\\n",
            "0   52    1   0       125   212    0        1      168      0      1.0      2   \n",
            "1   53    1   0       140   203    1        0      155      1      3.1      0   \n",
            "2   70    1   0       145   174    0        1      125      1      2.6      0   \n",
            "3   61    1   0       148   203    0        1      161      0      0.0      2   \n",
            "4   62    0   0       138   294    1        1      106      0      1.9      1   \n",
            "\n",
            "   ca  thal  target  \n",
            "0   2     3       0  \n",
            "1   0     3       0  \n",
            "2   0     3       0  \n",
            "3   1     3       0  \n",
            "4   3     2       0  \n"
          ]
        }
      ],
      "source": [
        "import pandas as pd\n",
        "import matplotlib.pyplot as plt\n",
        "import seaborn as sns\n",
        "df = pd.read_csv('heart.csv')\n",
        "print(df.head())"
      ]
    },
    {
      "cell_type": "code",
      "execution_count": 4,
      "metadata": {
        "colab": {
          "base_uri": "https://localhost:8080/"
        },
        "id": "pp99qXnFMpPb",
        "outputId": "57a400bc-1add-4aa4-ab1b-018bedcd658b"
      },
      "outputs": [
        {
          "output_type": "execute_result",
          "data": {
            "text/plain": [
              "target\n",
              "1         526\n",
              "0         499\n",
              "dtype: int64"
            ]
          },
          "metadata": {},
          "execution_count": 4
        }
      ],
      "source": [
        "# target = {'target' : df.target}\n",
        "# y = pd.DataFrame(data = target)\n",
        "# y.value_counts()"
      ]
    },
    {
      "cell_type": "code",
      "execution_count": 5,
      "metadata": {
        "id": "6iI4evoqM58-"
      },
      "outputs": [],
      "source": [
        "X = df.drop(['target'], axis=1)\n",
        "y = df['target']"
      ]
    },
    {
      "cell_type": "code",
      "source": [
        "# Cross Validation using N Fold technique\n",
        "\n",
        "dtc =  DecisionTreeClassifier()\n",
        "rfc = RandomForestClassifier()\n",
        "knn =  KNeighborsClassifier()\n",
        "xgb = xgboost.XGBClassifier()\n",
        "\n",
        "# Printing the individual accuracy of the models\n",
        "\n",
        "classifications = [dtc, rfc, knn, xgb]\n",
        "for algo in classifications:\n",
        "    score = cross_val_score( algo,X,y,cv = 5,scoring = 'accuracy')\n",
        "    print(\"The accuracy score of {} is:\".format(algo),score.mean())\n"
      ],
      "metadata": {
        "colab": {
          "base_uri": "https://localhost:8080/"
        },
        "id": "UynJdwSa8b7W",
        "outputId": "7e6cb48e-015f-4580-f8e2-995a1478c93e"
      },
      "execution_count": 8,
      "outputs": [
        {
          "output_type": "stream",
          "name": "stdout",
          "text": [
            "The accuracy score of DecisionTreeClassifier() is: 0.9960975609756098\n",
            "The accuracy score of RandomForestClassifier() is: 0.9970731707317073\n",
            "The accuracy score of KNeighborsClassifier() is: 0.7473170731707317\n",
            "The accuracy score of XGBClassifier(base_score=None, booster=None, callbacks=None,\n",
            "              colsample_bylevel=None, colsample_bynode=None,\n",
            "              colsample_bytree=None, early_stopping_rounds=None,\n",
            "              enable_categorical=False, eval_metric=None, feature_types=None,\n",
            "              gamma=None, gpu_id=None, grow_policy=None, importance_type=None,\n",
            "              interaction_constraints=None, learning_rate=None, max_bin=None,\n",
            "              max_cat_threshold=None, max_cat_to_onehot=None,\n",
            "              max_delta_step=None, max_depth=None, max_leaves=None,\n",
            "              min_child_weight=None, missing=nan, monotone_constraints=None,\n",
            "              n_estimators=100, n_jobs=None, num_parallel_tree=None,\n",
            "              predictor=None, random_state=None, ...) is: 0.9931707317073171\n"
          ]
        }
      ]
    },
    {
      "cell_type": "code",
      "source": [
        "# Implementing Stacking with the final layer being logistic regression\n",
        "\n",
        "decisiontree =  DecisionTreeClassifier()\n",
        "randomforest = RandomForestClassifier()\n",
        "knn =  KNeighborsClassifier()\n",
        "xgb = xgboost.XGBClassifier()\n",
        "\n",
        "#list of the estimator\n",
        "\n",
        "classificationres = [('decisiontree',decisiontree),('randomforest',randomforest),('knn',knn),('xgb',xgb)] \n",
        "\n",
        "# Logistic Regression\n",
        "\n",
        "lr = LogisticRegression()\n",
        "stack_model = StackingClassifier( estimators = classificationres,final_estimator = lr)\n",
        "score = cross_val_score(stack_model,X,y,cv = 5,scoring = 'accuracy')\n",
        "\n",
        "# Printing the final accuracy of the stacked model \n",
        "\n",
        "print(\"The accuracy score of is:\",score.mean())\n"
      ],
      "metadata": {
        "colab": {
          "base_uri": "https://localhost:8080/"
        },
        "id": "98PnZZdg8vIO",
        "outputId": "331cf08d-7477-4879-c231-0d8e881d97eb"
      },
      "execution_count": 9,
      "outputs": [
        {
          "output_type": "stream",
          "name": "stdout",
          "text": [
            "The accuracy score of is: 0.9970731707317073\n"
          ]
        }
      ]
    }
  ],
  "metadata": {
    "colab": {
      "provenance": []
    },
    "kernelspec": {
      "display_name": "Python 3",
      "name": "python3"
    },
    "language_info": {
      "name": "python"
    }
  },
  "nbformat": 4,
  "nbformat_minor": 0
}