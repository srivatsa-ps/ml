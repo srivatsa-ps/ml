{
 "cells": [
  {
   "cell_type": "markdown",
   "execution_count": null,
   "metadata": {
    "papermill": {
     "duration": 0.006496,
     "end_time": "2020-08-30T21:37:45.691002",
     "exception": false,
     "start_time": "2020-08-30T21:37:45.684506",
     "status": "completed"
    },
    "tags": []
   },
   "source": [
    "# <b style=\"color:blue\">MultiLayer Perceptron</b>\n",
    "A multilayer perceptron is a class of feedforward artificial neural network. The term MLP is used ambiguously, sometimes loosely to any feedforward ANN, sometimes strictly to refer to networks composed of multiple layers of perceptrons.\n",
    "\n",
    "<img src=\"https://www.researchgate.net/profile/Dominique_Guerillot3/publication/314106922/figure/fig11/AS:653106945724416@1532724238105/Example-of-multilayer-perceptron-with-two-hidden-layers.png\" alt = \"MLP\">"
   ]
  },
  {
   "cell_type": "code",
   "execution_count": 1,
   "metadata": {
    "execution": {
     "iopub.execute_input": "2020-08-30T21:37:45.706497Z",
     "iopub.status.busy": "2020-08-30T21:37:45.705858Z",
     "iopub.status.idle": "2020-08-30T21:37:52.670295Z",
     "shell.execute_reply": "2020-08-30T21:37:52.669701Z"
    },
    "papermill": {
     "duration": 6.974137,
     "end_time": "2020-08-30T21:37:52.670426",
     "exception": false,
     "start_time": "2020-08-30T21:37:45.696289",
     "status": "completed"
    },
    "tags": []
   },
   "outputs": [],
   "source": [
    "from sklearn.datasets import fetch_california_housing\n",
    "from sklearn.model_selection import train_test_split\n",
    "from sklearn.preprocessing import StandardScaler\n",
    "import tensorflow as tf"
   ]
  },
  {
   "cell_type": "code",
   "execution_count": 2,
   "metadata": {
    "execution": {
     "iopub.execute_input": "2020-08-30T21:37:52.687895Z",
     "iopub.status.busy": "2020-08-30T21:37:52.686552Z",
     "iopub.status.idle": "2020-08-30T21:37:53.692090Z",
     "shell.execute_reply": "2020-08-30T21:37:53.692603Z"
    },
    "papermill": {
     "duration": 1.016854,
     "end_time": "2020-08-30T21:37:53.692760",
     "exception": false,
     "start_time": "2020-08-30T21:37:52.675906",
     "status": "completed"
    },
    "tags": []
   },
   "outputs": [],
   "source": [
    "housing_datasets = fetch_california_housing()"
   ]
  },
  {
   "cell_type": "code",
   "execution_count": 3,
   "metadata": {
    "execution": {
     "iopub.execute_input": "2020-08-30T21:37:53.710799Z",
     "iopub.status.busy": "2020-08-30T21:37:53.710148Z",
     "iopub.status.idle": "2020-08-30T21:37:53.716732Z",
     "shell.execute_reply": "2020-08-30T21:37:53.716100Z"
    },
    "papermill": {
     "duration": 0.018695,
     "end_time": "2020-08-30T21:37:53.716839",
     "exception": false,
     "start_time": "2020-08-30T21:37:53.698144",
     "status": "completed"
    },
    "tags": []
   },
   "outputs": [],
   "source": [
    "x_train_full, x_test, y_train_full, y_test = train_test_split(housing_datasets.data, housing_datasets.target)\n",
    "x_train, x_validation, y_train, y_validation = train_test_split(x_train_full, y_train_full)"
   ]
  },
  {
   "cell_type": "markdown",
   "execution_count": null,
   "metadata": {
    "papermill": {
     "duration": 0.004878,
     "end_time": "2020-08-30T21:37:53.727286",
     "exception": false,
     "start_time": "2020-08-30T21:37:53.722408",
     "status": "completed"
    },
    "tags": []
   },
   "source": [
    "# Why we use StandardScaler()\n",
    "\n",
    "StandardScaler removes the mean and scales each feature/variable to unit variance. This operation is performed feature-wise in an independent way. StandardScaler can be influenced by outliers (if they exist in the dataset) since it involves the estimation of the empirical mean and standard deviation of each feature."
   ]
  },
  {
   "cell_type": "code",
   "execution_count": 4,
   "metadata": {
    "execution": {
     "iopub.execute_input": "2020-08-30T21:37:53.742447Z",
     "iopub.status.busy": "2020-08-30T21:37:53.741790Z",
     "iopub.status.idle": "2020-08-30T21:37:53.751488Z",
     "shell.execute_reply": "2020-08-30T21:37:53.750970Z"
    },
    "papermill": {
     "duration": 0.019302,
     "end_time": "2020-08-30T21:37:53.751607",
     "exception": false,
     "start_time": "2020-08-30T21:37:53.732305",
     "status": "completed"
    },
    "tags": []
   },
   "outputs": [],
   "source": [
    "scaler = StandardScaler()\n",
    "x_train = scaler.fit_transform(x_train)\n",
    "x_validation = scaler.fit_transform(x_validation)\n",
    "x_test = scaler.fit_transform(x_test)"
   ]
  },
  {
   "cell_type": "markdown",
   "execution_count": null,
   "metadata": {
    "papermill": {
     "duration": 0.005082,
     "end_time": "2020-08-30T21:37:53.762107",
     "exception": false,
     "start_time": "2020-08-30T21:37:53.757025",
     "status": "completed"
    },
    "tags": []
   },
   "source": [
    "Using the Sequential API to build, train, evaluate, and use a regression MLP to make\n",
    "predictions is quite similar to what we did for classification. The main differences are\n",
    "the fact that the output layer has a single neuron (since we only want to predict a single\n",
    "value) and uses no activation function, and the loss function is the mean squared\n",
    "error. Since the dataset is quite noisy, we just use a single hidden layer with fewer\n",
    "neurons than before, to avoid overfitting:"
   ]
  },
  {
   "cell_type": "markdown",
   "execution_count": null,
   "metadata": {
    "papermill": {
     "duration": 0.004931,
     "end_time": "2020-08-30T21:37:53.772420",
     "exception": false,
     "start_time": "2020-08-30T21:37:53.767489",
     "status": "completed"
    },
    "tags": []
   },
   "source": [
    "# Create Sequential API model"
   ]
  },
  {
   "cell_type": "code",
   "execution_count": 5,
   "metadata": {
    "execution": {
     "iopub.execute_input": "2020-08-30T21:37:53.788134Z",
     "iopub.status.busy": "2020-08-30T21:37:53.787522Z",
     "iopub.status.idle": "2020-08-30T21:37:53.905787Z",
     "shell.execute_reply": "2020-08-30T21:37:53.905120Z"
    },
    "papermill": {
     "duration": 0.128403,
     "end_time": "2020-08-30T21:37:53.905902",
     "exception": false,
     "start_time": "2020-08-30T21:37:53.777499",
     "status": "completed"
    },
    "tags": []
   },
   "outputs": [],
   "source": [
    "model = tf.keras.Sequential([tf.keras.layers.Dense(30, activation = 'relu', input_shape = x_train.shape[1:]),\n",
    "                            tf.keras.layers.Dense(1)])\n"
   ]
  },
  {
   "cell_type": "markdown",
   "execution_count": null,
   "metadata": {
    "papermill": {
     "duration": 0.00499,
     "end_time": "2020-08-30T21:37:53.916310",
     "exception": false,
     "start_time": "2020-08-30T21:37:53.911320",
     "status": "completed"
    },
    "tags": []
   },
   "source": [
    "# Compile The Model"
   ]
  },
  {
   "cell_type": "code",
   "execution_count": 6,
   "metadata": {
    "execution": {
     "iopub.execute_input": "2020-08-30T21:37:53.938076Z",
     "iopub.status.busy": "2020-08-30T21:37:53.936997Z",
     "iopub.status.idle": "2020-08-30T21:37:53.943358Z",
     "shell.execute_reply": "2020-08-30T21:37:53.942679Z"
    },
    "papermill": {
     "duration": 0.021886,
     "end_time": "2020-08-30T21:37:53.943473",
     "exception": false,
     "start_time": "2020-08-30T21:37:53.921587",
     "status": "completed"
    },
    "tags": []
   },
   "outputs": [],
   "source": [
    "model.compile(loss = tf.losses.mean_squared_error,\n",
    "             optimizer = 'sgd')"
   ]
  },
  {
   "cell_type": "markdown",
   "execution_count": null,
   "metadata": {
    "papermill": {
     "duration": 0.005252,
     "end_time": "2020-08-30T21:37:53.954039",
     "exception": false,
     "start_time": "2020-08-30T21:37:53.948787",
     "status": "completed"
    },
    "tags": []
   },
   "source": [
    "# Fit the Model"
   ]
  },
  {
   "cell_type": "code",
   "execution_count": 7,
   "metadata": {
    "execution": {
     "iopub.execute_input": "2020-08-30T21:37:53.969801Z",
     "iopub.status.busy": "2020-08-30T21:37:53.969130Z",
     "iopub.status.idle": "2020-08-30T21:38:01.978730Z",
     "shell.execute_reply": "2020-08-30T21:38:01.979378Z"
    },
    "papermill": {
     "duration": 8.020261,
     "end_time": "2020-08-30T21:38:01.979528",
     "exception": false,
     "start_time": "2020-08-30T21:37:53.959267",
     "status": "completed"
    },
    "tags": []
   },
   "outputs": [
    {
     "name": "stdout",
     "output_type": "stream",
     "text": [
      "Epoch 1/20\n",
      "363/363 [==============================] - 0s 1ms/step - loss: 1.2497 - val_loss: 0.7307\n",
      "Epoch 2/20\n",
      "363/363 [==============================] - 0s 1ms/step - loss: 0.7161 - val_loss: 0.6768\n",
      "Epoch 3/20\n",
      "363/363 [==============================] - 0s 1ms/step - loss: 0.5175 - val_loss: 0.6943\n",
      "Epoch 4/20\n",
      "363/363 [==============================] - 0s 997us/step - loss: 0.3963 - val_loss: 0.7604\n",
      "Epoch 5/20\n",
      "363/363 [==============================] - 0s 987us/step - loss: 0.3879 - val_loss: 0.8083\n",
      "Epoch 6/20\n",
      "363/363 [==============================] - 0s 991us/step - loss: 0.3810 - val_loss: 0.8629\n",
      "Epoch 7/20\n",
      "363/363 [==============================] - 0s 1ms/step - loss: 0.3757 - val_loss: 0.9550\n",
      "Epoch 8/20\n",
      "363/363 [==============================] - 0s 1ms/step - loss: 0.3705 - val_loss: 1.0322\n",
      "Epoch 9/20\n",
      "363/363 [==============================] - 0s 1ms/step - loss: 0.3669 - val_loss: 1.1524\n",
      "Epoch 10/20\n",
      "363/363 [==============================] - 0s 990us/step - loss: 0.3611 - val_loss: 1.1409\n",
      "Epoch 11/20\n",
      "363/363 [==============================] - 0s 994us/step - loss: 0.3588 - val_loss: 1.2011\n",
      "Epoch 12/20\n",
      "363/363 [==============================] - 0s 1ms/step - loss: 0.3554 - val_loss: 1.2692\n",
      "Epoch 13/20\n",
      "363/363 [==============================] - 0s 1ms/step - loss: 0.3528 - val_loss: 1.3327\n",
      "Epoch 14/20\n",
      "363/363 [==============================] - 0s 995us/step - loss: 0.3495 - val_loss: 1.3293\n",
      "Epoch 15/20\n",
      "363/363 [==============================] - 0s 1ms/step - loss: 0.3460 - val_loss: 1.4889\n",
      "Epoch 16/20\n",
      "363/363 [==============================] - 0s 1ms/step - loss: 0.3433 - val_loss: 1.4607\n",
      "Epoch 17/20\n",
      "363/363 [==============================] - 0s 1ms/step - loss: 0.3441 - val_loss: 1.5738\n",
      "Epoch 18/20\n",
      "363/363 [==============================] - 0s 1ms/step - loss: 0.3389 - val_loss: 1.6119\n",
      "Epoch 19/20\n",
      "363/363 [==============================] - 0s 1ms/step - loss: 0.3356 - val_loss: 1.7758\n",
      "Epoch 20/20\n",
      "363/363 [==============================] - 0s 1ms/step - loss: 0.3338 - val_loss: 1.7126\n"
     ]
    }
   ],
   "source": [
    "hostory = model.fit(x_train, y_train, epochs=20,\n",
    "                   validation_data=(x_validation, y_validation))"
   ]
  },
  {
   "cell_type": "markdown",
   "execution_count": null,
   "metadata": {
    "papermill": {
     "duration": 0.011297,
     "end_time": "2020-08-30T21:38:02.002805",
     "exception": false,
     "start_time": "2020-08-30T21:38:01.991508",
     "status": "completed"
    },
    "tags": []
   },
   "source": [
    "# Test the model"
   ]
  },
  {
   "cell_type": "code",
   "execution_count": 8,
   "metadata": {
    "execution": {
     "iopub.execute_input": "2020-08-30T21:38:02.032027Z",
     "iopub.status.busy": "2020-08-30T21:38:02.031125Z",
     "iopub.status.idle": "2020-08-30T21:38:02.285229Z",
     "shell.execute_reply": "2020-08-30T21:38:02.284695Z"
    },
    "papermill": {
     "duration": 0.270914,
     "end_time": "2020-08-30T21:38:02.285342",
     "exception": false,
     "start_time": "2020-08-30T21:38:02.014428",
     "status": "completed"
    },
    "tags": []
   },
   "outputs": [
    {
     "name": "stdout",
     "output_type": "stream",
     "text": [
      "162/162 [==============================] - 0s 693us/step - loss: 0.3733\n"
     ]
    },
    {
     "data": {
      "text/plain": [
       "array([[2.888164  ],\n",
       "       [2.2869391 ],\n",
       "       [0.70185906]], dtype=float32)"
      ]
     },
     "execution_count": 8,
     "metadata": {},
     "output_type": "execute_result"
    }
   ],
   "source": [
    "mean_squared_error_test = model.evaluate(x_test, y_test)\n",
    "x_new = x_test[:3] # New instance\n",
    "y_pred = model.predict(x_new)\n",
    "y_pred"
   ]
  },
  {
   "cell_type": "markdown",
   "execution_count": null,
   "metadata": {
    "papermill": {
     "duration": 0.011806,
     "end_time": "2020-08-30T21:38:02.308792",
     "exception": false,
     "start_time": "2020-08-30T21:38:02.296986",
     "status": "completed"
    },
    "tags": []
   },
   "source": [
    "As you can see, the Sequential API is quite easy to use. However, although Sequen\n",
    "tial models are extremely common, it is sometimes useful to build neural networks\n",
    "with more complex topologies, or with multiple inputs or outputs. For this purpose,\n",
    "Keras offers the Functional API."
   ]
  },
  {
   "cell_type": "markdown",
   "execution_count": null,
   "metadata": {
    "papermill": {
     "duration": 0.011155,
     "end_time": "2020-08-30T21:38:02.331584",
     "exception": false,
     "start_time": "2020-08-30T21:38:02.320429",
     "status": "completed"
    },
    "tags": []
   },
   "source": [
    "# Building Complex Models Using The Functional API"
   ]
  },
  {
   "cell_type": "markdown",
   "execution_count": null,
   "metadata": {
    "papermill": {
     "duration": 0.011282,
     "end_time": "2020-08-30T21:38:02.354687",
     "exception": false,
     "start_time": "2020-08-30T21:38:02.343405",
     "status": "completed"
    },
    "tags": []
   },
   "source": [
    "# Functional API\n",
    "\n",
    "The <b style=\"color:blue\"> functional API </b> can handle models with non-linear topology, shared layers, and even multiple inputs or outputs. The main idea is that a deep learning model is usually a directed acyclic graph (DAG) of layers. So the functional API is a way to build graphs of layers.\n",
    "\n",
    "<img src=\"https://i.stack.imgur.com/WCess.png\" alt = \"Functional API and Sequential API\">"
   ]
  },
  {
   "cell_type": "markdown",
   "execution_count": null,
   "metadata": {
    "papermill": {
     "duration": 0.011195,
     "end_time": "2020-08-30T21:38:02.377429",
     "exception": false,
     "start_time": "2020-08-30T21:38:02.366234",
     "status": "completed"
    },
    "tags": []
   },
   "source": [
    "# Build a Neural Network to Handel the California Housing Datasets problem:"
   ]
  },
  {
   "cell_type": "code",
   "execution_count": 9,
   "metadata": {
    "_cell_guid": "79c7e3d0-c299-4dcb-8224-4455121ee9b0",
    "_uuid": "d629ff2d2480ee46fbb7e2d37f6b5fab8052498a",
    "execution": {
     "iopub.execute_input": "2020-08-30T21:38:02.411967Z",
     "iopub.status.busy": "2020-08-30T21:38:02.409711Z",
     "iopub.status.idle": "2020-08-30T21:38:02.432582Z",
     "shell.execute_reply": "2020-08-30T21:38:02.433047Z"
    },
    "papermill": {
     "duration": 0.044247,
     "end_time": "2020-08-30T21:38:02.433222",
     "exception": false,
     "start_time": "2020-08-30T21:38:02.388975",
     "status": "completed"
    },
    "tags": []
   },
   "outputs": [],
   "source": [
    "input_a = tf.keras.layers.Input(shape = [5], name = 'wide_input')\n",
    "input_b = tf.keras.layers.Input(shape = [6], name = 'deep_input')\n",
    "hidden1 = tf.keras.layers.Dense(30, activation = 'relu')(input_b)\n",
    "hidden2 = tf.keras.layers.Dense(30, activation = 'relu')(hidden1)\n",
    "concat = tf.keras.layers.concatenate([input_a, hidden2])\n",
    "output = tf.keras.layers.Dense(1, name = 'output')(concat)"
   ]
  },
  {
   "cell_type": "code",
   "execution_count": 10,
   "metadata": {
    "execution": {
     "iopub.execute_input": "2020-08-30T21:38:02.464412Z",
     "iopub.status.busy": "2020-08-30T21:38:02.463500Z",
     "iopub.status.idle": "2020-08-30T21:38:02.469895Z",
     "shell.execute_reply": "2020-08-30T21:38:02.470411Z"
    },
    "papermill": {
     "duration": 0.025595,
     "end_time": "2020-08-30T21:38:02.470555",
     "exception": false,
     "start_time": "2020-08-30T21:38:02.444960",
     "status": "completed"
    },
    "tags": []
   },
   "outputs": [],
   "source": [
    "model = tf.keras.Model(inputs = [input_a, input_b], outputs = [output])"
   ]
  },
  {
   "cell_type": "code",
   "execution_count": 11,
   "metadata": {
    "execution": {
     "iopub.execute_input": "2020-08-30T21:38:02.505107Z",
     "iopub.status.busy": "2020-08-30T21:38:02.503745Z",
     "iopub.status.idle": "2020-08-30T21:38:02.508639Z",
     "shell.execute_reply": "2020-08-30T21:38:02.508014Z"
    },
    "papermill": {
     "duration": 0.026276,
     "end_time": "2020-08-30T21:38:02.508752",
     "exception": false,
     "start_time": "2020-08-30T21:38:02.482476",
     "status": "completed"
    },
    "tags": []
   },
   "outputs": [],
   "source": [
    "model.compile(loss = tf.losses.mean_squared_error,\n",
    "             optimizer = tf.keras.optimizers.SGD(lr = 1e-3))"
   ]
  },
  {
   "cell_type": "code",
   "execution_count": 12,
   "metadata": {
    "execution": {
     "iopub.execute_input": "2020-08-30T21:38:02.539336Z",
     "iopub.status.busy": "2020-08-30T21:38:02.538358Z",
     "iopub.status.idle": "2020-08-30T21:38:02.541155Z",
     "shell.execute_reply": "2020-08-30T21:38:02.540637Z"
    },
    "papermill": {
     "duration": 0.020607,
     "end_time": "2020-08-30T21:38:02.541292",
     "exception": false,
     "start_time": "2020-08-30T21:38:02.520685",
     "status": "completed"
    },
    "tags": []
   },
   "outputs": [],
   "source": [
    "x_train_a, x_train_b = x_train[:, :5], x_train[:, 2:]\n",
    "x_validation_a, x_validation_b = x_validation[:, :5], x_validation[:, 2:]\n",
    "x_test_a, x_test_b = x_test[:, :5], x_test[:, 2:]\n",
    "x_new_a, x_new_b = x_test_a[:3], x_test_b[:3]"
   ]
  },
  {
   "cell_type": "code",
   "execution_count": 13,
   "metadata": {
    "execution": {
     "iopub.execute_input": "2020-08-30T21:38:02.571585Z",
     "iopub.status.busy": "2020-08-30T21:38:02.570599Z",
     "iopub.status.idle": "2020-08-30T21:38:11.426666Z",
     "shell.execute_reply": "2020-08-30T21:38:11.426035Z"
    },
    "papermill": {
     "duration": 8.873635,
     "end_time": "2020-08-30T21:38:11.426782",
     "exception": false,
     "start_time": "2020-08-30T21:38:02.553147",
     "status": "completed"
    },
    "tags": []
   },
   "outputs": [
    {
     "name": "stdout",
     "output_type": "stream",
     "text": [
      "Epoch 1/20\n",
      "363/363 [==============================] - 0s 1ms/step - loss: 1.7420 - val_loss: 0.8712\n",
      "Epoch 2/20\n",
      "363/363 [==============================] - 0s 1ms/step - loss: 0.7707 - val_loss: 0.7092\n",
      "Epoch 3/20\n",
      "363/363 [==============================] - 0s 1ms/step - loss: 0.6689 - val_loss: 0.6366\n",
      "Epoch 4/20\n",
      "363/363 [==============================] - 0s 1ms/step - loss: 0.6182 - val_loss: 0.5900\n",
      "Epoch 5/20\n",
      "363/363 [==============================] - 0s 1ms/step - loss: 0.5836 - val_loss: 0.5556\n",
      "Epoch 6/20\n",
      "363/363 [==============================] - 0s 1ms/step - loss: 0.5574 - val_loss: 0.5309\n",
      "Epoch 7/20\n",
      "363/363 [==============================] - 0s 1ms/step - loss: 0.5372 - val_loss: 0.5148\n",
      "Epoch 8/20\n",
      "363/363 [==============================] - 0s 1ms/step - loss: 0.5219 - val_loss: 0.5037\n",
      "Epoch 9/20\n",
      "363/363 [==============================] - 0s 1ms/step - loss: 0.5102 - val_loss: 0.4936\n",
      "Epoch 10/20\n",
      "363/363 [==============================] - 0s 1ms/step - loss: 0.5008 - val_loss: 0.4872\n",
      "Epoch 11/20\n",
      "363/363 [==============================] - 0s 1ms/step - loss: 0.4929 - val_loss: 0.4830\n",
      "Epoch 12/20\n",
      "363/363 [==============================] - 0s 1ms/step - loss: 0.4862 - val_loss: 0.4824\n",
      "Epoch 13/20\n",
      "363/363 [==============================] - 0s 1ms/step - loss: 0.4805 - val_loss: 0.4806\n",
      "Epoch 14/20\n",
      "363/363 [==============================] - 0s 1ms/step - loss: 0.4753 - val_loss: 0.4836\n",
      "Epoch 15/20\n",
      "363/363 [==============================] - 0s 1ms/step - loss: 0.4706 - val_loss: 0.4880\n",
      "Epoch 16/20\n",
      "363/363 [==============================] - 0s 1ms/step - loss: 0.4663 - val_loss: 0.4917\n",
      "Epoch 17/20\n",
      "363/363 [==============================] - 0s 1ms/step - loss: 0.4621 - val_loss: 0.4937\n",
      "Epoch 18/20\n",
      "363/363 [==============================] - 0s 1ms/step - loss: 0.4586 - val_loss: 0.4998\n",
      "Epoch 19/20\n",
      "363/363 [==============================] - 0s 1ms/step - loss: 0.4552 - val_loss: 0.5078\n",
      "Epoch 20/20\n",
      "363/363 [==============================] - 0s 1ms/step - loss: 0.4519 - val_loss: 0.5176\n",
      "162/162 [==============================] - 0s 723us/step - loss: 0.4542\n"
     ]
    }
   ],
   "source": [
    "history = model.fit((x_train_a, x_train_b), y_train, epochs=20, validation_data=((x_validation_a, x_validation_b), y_validation))\n",
    "mean_squared_error_test = model.evaluate((x_test_a, x_test_b), y_test)\n",
    "y_pred = model.predict((x_new_a, x_new_b))"
   ]
  },
  {
   "cell_type": "markdown",
   "execution_count": null,
   "metadata": {
    "papermill": {
     "duration": 0.018543,
     "end_time": "2020-08-30T21:38:11.464852",
     "exception": false,
     "start_time": "2020-08-30T21:38:11.446309",
     "status": "completed"
    },
    "tags": []
   },
   "source": [
    "Both models are pretty close 📚"
   ]
  },
  {
   "cell_type": "code",
   "execution_count": null,
   "metadata": {
    "papermill": {
     "duration": 0.018685,
     "end_time": "2020-08-30T21:38:11.502411",
     "exception": false,
     "start_time": "2020-08-30T21:38:11.483726",
     "status": "completed"
    },
    "tags": []
   },
   "outputs": [],
   "source": []
  }
 ],
 "metadata": {
  "kernelspec": {
   "display_name": "Python 3",
   "language": "python",
   "name": "python3"
  },
  "language_info": {
   "codemirror_mode": {
    "name": "ipython",
    "version": 3
   },
   "file_extension": ".py",
   "mimetype": "text/x-python",
   "name": "python",
   "nbconvert_exporter": "python",
   "pygments_lexer": "ipython3",
   "version": "3.7.6"
  },
  "papermill": {
   "duration": 30.223178,
   "end_time": "2020-08-30T21:38:11.628449",
   "environment_variables": {},
   "exception": null,
   "input_path": "__notebook__.ipynb",
   "output_path": "__notebook__.ipynb",
   "parameters": {},
   "start_time": "2020-08-30T21:37:41.405271",
   "version": "2.1.0"
  }
 },
 "nbformat": 4,
 "nbformat_minor": 4
}
